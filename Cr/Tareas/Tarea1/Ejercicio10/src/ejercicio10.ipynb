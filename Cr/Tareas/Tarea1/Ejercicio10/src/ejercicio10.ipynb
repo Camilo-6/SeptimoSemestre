{
 "cells": [
  {
   "cell_type": "markdown",
   "metadata": {},
   "source": [
    "# Ejercicio 10: Cifrado de Hill\n",
    "\n",
    "## Criptograma:\n",
    "\n",
    "ZKEKS HOTSE QFYFG NIULT VMGIT ATPKY TWVOQ ZGDWP OGIEL OMWWJ WTYFK ZYSGM KLEUL BQJGM TWOXT AGSBW OIKXZ SAWQZ KVIJN QAUJP OWTWI SZKRB QYGQV MLOGM NSGIJ PQIGB ZKGNE LQSAG KLQWA NYSMW GNADM QTIIQ VMMOV ORCQM ANRGY RADEK YRGXG EIETK JHYFK ZYSGM INRWT QTWOW TIEUL BKZGO DSART VGXAN ELVOE FSITB OWGEZ GZKMS GNARK VWCNQ TXWRS EGXZS AWQSS GXDGD ESOAG MVWKC OGQYS IADVS NSGVA NGNYB KLOKZ CNQNY SL\n",
    "\n",
    "## Hints:\n",
    "\n",
    "+ La 5ta letra es una **e** (pista dada por la profesora)\n",
    "+ La 1ra letra es una **r** (pista dada por la profesora)\n",
    "+ La penúltima letra es una **s** (pista dada por el ayudante Luis Ángel)\n",
    "+ La ultima letra es una **z** (pista dada por el ayudante Luis Ángel)\n",
    "\n",
    "El criptograma está dividido por bloques, sabemos que en el cifrado de hill se usan matrices cuadradas de nxn para cifrar, por lo que el texto se tiene que dividir en bloques de longitud n. Se tienen bloques de 5 letras y el último bloque tiene solamente 2, por lo que no se pudo usar matrices de 5x5 para cifrar, lo más probable es que se hayan utilizado una matriz de 2x2, puesto que se tienen en total 322 letras. Cabe la posibilidad de que se hayan ocupado matrices de otro tamaño, como por ejemplo matrices de 7x7, sin embargo es poco probable ya que sería un ejercicio muy dificil de descifrar con tan poca información para una tarea, por lo que podemos suponer que se utilizó una matriz de 2x2. Importamos los modulos necesarios para resolver el criptograma y cargamos el criptograma sin espacios.\n",
    "\n"
   ]
  },
  {
   "cell_type": "code",
   "execution_count": 1,
   "metadata": {},
   "outputs": [
    {
     "name": "stdout",
     "output_type": "stream",
     "text": [
      "ZKEKSHOTSEQFYFGNIULTVMGITATPKYTWVOQZGDWPOGIELOMWWJWTYFKZYSGMKLEULBQJGMTWOXTAGSBWOIKXZSAWQZKVIJNQAUJPOWTWISZKRBQYGQVMLOGMNSGIJPQIGBZKGNELQSAGKLQWANYSMWGNADMQTIIQVMMOVORCQMANRGYRADEKYRGXGEIETKJHYFKZYSGMINRWTQTWOWTIEULBKZGODSARTVGXANELVOEFSITBOWGEZGZKMSGNARKVWCNQTXWRSEGXZSAWQSSGXDGDESOAGMVWKCOGQYSIADVSNSGVANGNYBKLOKZCNQNYSL\n"
     ]
    }
   ],
   "source": [
    "from cifrar_hill import *\n",
    "\n",
    "criptograma = None\n",
    "with open('./archivos/Criptograma_5.txt', 'r') as file:\n",
    "    # Eliminamos espacios y lo guardamos en una variable\n",
    "    criptograma = file.read().replace(' ','')\n",
    "print(criptograma)"
   ]
  },
  {
   "cell_type": "markdown",
   "metadata": {},
   "source": [
    "Consideremos las pistas del ayudante y las últimas 4 letras del criptograma, estas son las correspondientes a **NYSL**, veamos a que valores están mapeados, cabe recalcar que estamos usando un alfabeto de 26 letras."
   ]
  },
  {
   "cell_type": "code",
   "execution_count": 2,
   "metadata": {},
   "outputs": [
    {
     "name": "stdout",
     "output_type": "stream",
     "text": [
      "13\n",
      "24\n",
      "18\n",
      "11\n"
     ]
    }
   ],
   "source": [
    "print(ALFABETO['N'])\n",
    "print(ALFABETO['Y'])\n",
    "print(ALFABETO['S'])\n",
    "print(ALFABETO['L'])"
   ]
  },
  {
   "cell_type": "markdown",
   "metadata": {},
   "source": [
    "Consideremos estos valores en una matriz"
   ]
  },
  {
   "cell_type": "code",
   "execution_count": 3,
   "metadata": {},
   "outputs": [],
   "source": [
    "matriz_cifrado = [\n",
    "    [13,24],\n",
    "    [18,11]\n",
    "]"
   ]
  },
  {
   "cell_type": "markdown",
   "metadata": {},
   "source": [
    "Por las pistas sabemos que la última letra del criptograma en el texto original era una **Z** y la penúltima era una **S** (curiosamente es la misma). Veamos a que valores están mapeados estas letras"
   ]
  },
  {
   "cell_type": "code",
   "execution_count": 4,
   "metadata": {},
   "outputs": [
    {
     "name": "stdout",
     "output_type": "stream",
     "text": [
      "18\n",
      "25\n"
     ]
    }
   ],
   "source": [
    "print(ALFABETO['S'])\n",
    "print(ALFABETO['Z'])"
   ]
  },
  {
   "cell_type": "markdown",
   "metadata": {},
   "source": [
    "Por la clase de ayudantía sabemos que si la matriz del texto original tiene inversa, entonces podemos calcular la clave con la que se cifró. Así que generamos todas las posibles matrices invertibles con estos dos valores fijos."
   ]
  },
  {
   "cell_type": "code",
   "execution_count": 5,
   "metadata": {},
   "outputs": [
    {
     "name": "stdout",
     "output_type": "stream",
     "text": [
      "312\n"
     ]
    }
   ],
   "source": [
    "matrices_con_inversa = []\n",
    "for i in range(26):\n",
    "    for j in range(26):\n",
    "        matriz = [\n",
    "            [i,j],\n",
    "            [18,25]\n",
    "        ]\n",
    "        inversa = matriz_inversa(matriz)\n",
    "        if inversa:\n",
    "            matrices_con_inversa.append(matriz)\n",
    "print(len(matrices_con_inversa))"
   ]
  },
  {
   "cell_type": "markdown",
   "metadata": {},
   "source": [
    "Tenemos 312 posibles matrices invertibles. Ahora multipliquemos la inversa de estas matrices por la matriz resultante de las últimas 4 letras, el resultado de esta multiplicación será una posible clave que se utilizó para cifrar el texto original."
   ]
  },
  {
   "cell_type": "code",
   "execution_count": 6,
   "metadata": {},
   "outputs": [],
   "source": [
    "claves = []\n",
    "for matriz in matrices_con_inversa:\n",
    "    inversa = matriz_inversa(matriz)\n",
    "    clave = matriz_modulo(multiplica_matriz_x_matriz(inversa,matriz_cifrado),26)\n",
    "    claves.append(clave)"
   ]
  },
  {
   "cell_type": "markdown",
   "metadata": {},
   "source": [
    "Ahora tenemos que calcular la inversa de todas las posibles claves y utilizarlas para descifrar el criptograma, alguna de estas tiene que producir un texto con sentido. Los resultados los guardamos en un archivo `.txt`"
   ]
  },
  {
   "cell_type": "code",
   "execution_count": 7,
   "metadata": {},
   "outputs": [],
   "source": [
    "with open('./archivos/posibles_descifrados.txt', 'w') as file:\n",
    "    for clave in claves:\n",
    "        clave_inversa = matriz_inversa(clave)\n",
    "        descifrado = cifrar_hill(criptograma, clave_inversa)\n",
    "        file.write(descifrado+\"\\n\")"
   ]
  },
  {
   "cell_type": "markdown",
   "metadata": {},
   "source": [
    "Después de revisar los resultados, podemos observar que hay uno que tiene coherencia, este se encuentra en la linea `217` del archivo. Por lo que este debio haber sido descifrado por la clave en la posición 216, por lo que la clave para descifrar fue la siguiente:"
   ]
  },
  {
   "cell_type": "code",
   "execution_count": 8,
   "metadata": {},
   "outputs": [
    {
     "name": "stdout",
     "output_type": "stream",
     "text": [
      "RIQUEZAFAMAPODERGOLDROGERELREYDELOSPIRATASCONQUISTOTODOLOQUEELMUNDOPUEDEOFRECERSUSULTIMASPALABRASANTESDEMORIRHICIERONQUELAGENTECORRIERAHACIAELOCANOQUIERENMITESOROSILOBUSCANPUEDENQUEDARSECONELTODOLOQUEOBTUVEDEESTEMUNDOLOENCONTRARANAHLOSHOMBRESSEDIRIGIERONALAGRANRUTAMARTIMAACUMPLIRSUSSUENOSYASICOMENZOLAGRANERADELOSPIRATASZ\n"
     ]
    }
   ],
   "source": [
    "inversa = matriz_inversa(claves[216])\n",
    "print(inversa)\n",
    "print(cifrar_hill(criptograma,inversa))"
   ]
  },
  {
   "cell_type": "markdown",
   "metadata": {},
   "source": [
    "Si agregamos espacios queda de la siguiente forma:"
   ]
  },
  {
   "cell_type": "code",
   "execution_count": 9,
   "metadata": {},
   "outputs": [
    {
     "data": {
      "text/plain": [
       "'\\nRIQUEZA FAMA PODER GOLD ROGER EL REY DE LOS PIRATAS CONQUISTO \\nTODO LO QUE EL MUNDO PUEDE OFRECER SUS ULTIMAS PALABRAS ANTES \\nDE MORIR HICIERON QUE LA GENTE CORRIERA HACIA EL OCANO QUIEREN\\nMI TESORO SI LO BUSCAN PUEDEN QUEDARSE CON EL TODO LO QUE OBTUVE \\nDE ESTE MUNDO LO ENCONTRARAN AH LOS HOMBRES SE DIRIGIERON A LA \\nGRAN RUTA MARTIMA A CUMPLIR SUS SUENOS Y ASI COMENZO LA GRAN ERA \\nDE LOS PIRATAS Z\\n'"
      ]
     },
     "execution_count": 9,
     "metadata": {},
     "output_type": "execute_result"
    }
   ],
   "source": [
    "\"\"\"\n",
    "RIQUEZA FAMA PODER GOLD ROGER EL REY DE LOS PIRATAS CONQUISTO \n",
    "TODO LO QUE EL MUNDO PUEDE OFRECER SUS ULTIMAS PALABRAS ANTES \n",
    "DE MORIR HICIERON QUE LA GENTE CORRIERA HACIA EL OCANO QUIEREN\n",
    "MI TESORO SI LO BUSCAN PUEDEN QUEDARSE CON EL TODO LO QUE OBTUVE \n",
    "DE ESTE MUNDO LO ENCONTRARAN AH LOS HOMBRES SE DIRIGIERON A LA \n",
    "GRAN RUTA MARTIMA A CUMPLIR SUS SUENOS Y ASI COMENZO LA GRAN ERA \n",
    "DE LOS PIRATAS Z\n",
    "\"\"\""
   ]
  },
  {
   "cell_type": "markdown",
   "metadata": {},
   "source": [
    "Se buscó el fragmento en google y se encontró que este es una [narración del opening de one piece](https://onepiece.fandom.com/es/wiki/Narraci%C3%B3n_de_los_openings). Agregando las letras faltantes, quitando las sobrantes, con signos de puntuación y cambiando la n por ñ, queda de la siguiente forma:\n",
    "\n",
    "<em>Riqueza, Fama, Poder. Gold Roger, el rey de los piratas conquistó\n",
    "todo lo que el mundo puede ofrecer. Sus últimas palabras antes \n",
    "de morir hicieron que la gente corriera hacia el oceano. ¿Quieren\n",
    "mi tesoro? si lo buscan pueden quedarse con él. Todo lo que obtuve \n",
    "de este mundo lo encontraran. Los hombres se dirigieron a la \n",
    "gran ruta marítima a cumplir sus sueños y así comenzó la gran era \n",
    "de los piratas</em>\n"
   ]
  }
 ],
 "metadata": {
  "kernelspec": {
   "display_name": "Python 3",
   "language": "python",
   "name": "python3"
  },
  "language_info": {
   "codemirror_mode": {
    "name": "ipython",
    "version": 3
   },
   "file_extension": ".py",
   "mimetype": "text/x-python",
   "name": "python",
   "nbconvert_exporter": "python",
   "pygments_lexer": "ipython3",
   "version": "3.12.6"
  }
 },
 "nbformat": 4,
 "nbformat_minor": 2
}
